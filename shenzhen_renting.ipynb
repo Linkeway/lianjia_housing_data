{
 "cells": [
  {
   "cell_type": "markdown",
   "metadata": {},
   "source": [
    "## Shenzhen House Renting Report"
   ]
  },
  {
   "cell_type": "code",
   "execution_count": 1,
   "metadata": {},
   "outputs": [],
   "source": [
    "import numpy as np\n",
    "import pandas as pd\n",
    "import matplotlib.pyplot as plt\n",
    "import seaborn as sns\n",
    "import mpl_toolkits\n",
    "%matplotlib inline"
   ]
  },
  {
   "cell_type": "markdown",
   "metadata": {},
   "source": [
    "Using the [lianjia-spider](https://github.com/jumper2014/lianjia-spider) crawler, house renting data is collected and saved into the following directory.\n",
    "Each region is saved into a CSV file. Here all CSV files are loaded into one overall *pandas frame*."
   ]
  },
  {
   "cell_type": "code",
   "execution_count": 2,
   "metadata": {},
   "outputs": [],
   "source": [
    "import os\n",
    "data_dir = \"data/zufang/sz/20180826/\"\n",
    "csv_files = [data_dir + file_name for file_name in os.listdir(data_dir)]"
   ]
  },
  {
   "cell_type": "code",
   "execution_count": 3,
   "metadata": {},
   "outputs": [
    {
     "name": "stdout",
     "output_type": "stream",
     "text": [
      "data/zufang/sz/20180826/pinghu.csv  is empty.\n",
      "data/zufang/sz/20180826/shajing.csv  is empty.\n"
     ]
    },
    {
     "data": {
      "text/html": [
       "<div>\n",
       "<style scoped>\n",
       "    .dataframe tbody tr th:only-of-type {\n",
       "        vertical-align: middle;\n",
       "    }\n",
       "\n",
       "    .dataframe tbody tr th {\n",
       "        vertical-align: top;\n",
       "    }\n",
       "\n",
       "    .dataframe thead th {\n",
       "        text-align: right;\n",
       "    }\n",
       "</style>\n",
       "<table border=\"1\" class=\"dataframe\">\n",
       "  <thead>\n",
       "    <tr style=\"text-align: right;\">\n",
       "      <th></th>\n",
       "      <th>0</th>\n",
       "      <th>1</th>\n",
       "      <th>2</th>\n",
       "      <th>3</th>\n",
       "      <th>4</th>\n",
       "      <th>5</th>\n",
       "      <th>6</th>\n",
       "    </tr>\n",
       "  </thead>\n",
       "  <tbody>\n",
       "    <tr>\n",
       "      <th>0</th>\n",
       "      <td>20180826</td>\n",
       "      <td>盐田区</td>\n",
       "      <td>盐田港</td>\n",
       "      <td>浩海明珠</td>\n",
       "      <td>2室1厅</td>\n",
       "      <td>51平米</td>\n",
       "      <td>3500</td>\n",
       "    </tr>\n",
       "    <tr>\n",
       "      <th>1</th>\n",
       "      <td>20180826</td>\n",
       "      <td>盐田区</td>\n",
       "      <td>盐田港</td>\n",
       "      <td>中海半山溪谷花园</td>\n",
       "      <td>3室2厅</td>\n",
       "      <td>105平米</td>\n",
       "      <td>4000</td>\n",
       "    </tr>\n",
       "    <tr>\n",
       "      <th>2</th>\n",
       "      <td>20180826</td>\n",
       "      <td>盐田区</td>\n",
       "      <td>盐田港</td>\n",
       "      <td>中铁大厦</td>\n",
       "      <td>4室2厅</td>\n",
       "      <td>136平米</td>\n",
       "      <td>5500</td>\n",
       "    </tr>\n",
       "    <tr>\n",
       "      <th>3</th>\n",
       "      <td>20180826</td>\n",
       "      <td>盐田区</td>\n",
       "      <td>盐田港</td>\n",
       "      <td>东港印象二期</td>\n",
       "      <td>4室1厅</td>\n",
       "      <td>112平米</td>\n",
       "      <td>5800</td>\n",
       "    </tr>\n",
       "    <tr>\n",
       "      <th>4</th>\n",
       "      <td>20180826</td>\n",
       "      <td>盐田区</td>\n",
       "      <td>盐田港</td>\n",
       "      <td>金山碧海花园</td>\n",
       "      <td>4室2厅</td>\n",
       "      <td>89平米</td>\n",
       "      <td>7000</td>\n",
       "    </tr>\n",
       "  </tbody>\n",
       "</table>\n",
       "</div>"
      ],
      "text/plain": [
       "          0    1    2         3     4      5     6\n",
       "0  20180826  盐田区  盐田港      浩海明珠  2室1厅   51平米  3500\n",
       "1  20180826  盐田区  盐田港  中海半山溪谷花园  3室2厅  105平米  4000\n",
       "2  20180826  盐田区  盐田港      中铁大厦  4室2厅  136平米  5500\n",
       "3  20180826  盐田区  盐田港    东港印象二期  4室1厅  112平米  5800\n",
       "4  20180826  盐田区  盐田港    金山碧海花园  4室2厅   89平米  7000"
      ]
     },
     "execution_count": 3,
     "metadata": {},
     "output_type": "execute_result"
    }
   ],
   "source": [
    "frame = pd.DataFrame()\n",
    "list_ = []\n",
    "for file_ in csv_files:\n",
    "    try:\n",
    "        df = pd.read_csv(file_,index_col=None, header=None)\n",
    "        list_.append(df)\n",
    "    except pd.io.common.EmptyDataError:\n",
    "        print(file_, \" is empty.\")\n",
    "frame = pd.concat(list_, axis=0, sort=False, ignore_index=True)\n",
    "frame.head()\n",
    "#frame = pd.concat([pd.read_csv(csv_file, header=None) for csv_file in csv_files], sort=False, ignore_index=True)"
   ]
  },
  {
   "cell_type": "code",
   "execution_count": 4,
   "metadata": {},
   "outputs": [
    {
     "data": {
      "text/html": [
       "<div>\n",
       "<style scoped>\n",
       "    .dataframe tbody tr th:only-of-type {\n",
       "        vertical-align: middle;\n",
       "    }\n",
       "\n",
       "    .dataframe tbody tr th {\n",
       "        vertical-align: top;\n",
       "    }\n",
       "\n",
       "    .dataframe thead th {\n",
       "        text-align: right;\n",
       "    }\n",
       "</style>\n",
       "<table border=\"1\" class=\"dataframe\">\n",
       "  <thead>\n",
       "    <tr style=\"text-align: right;\">\n",
       "      <th></th>\n",
       "      <th>0</th>\n",
       "      <th>6</th>\n",
       "    </tr>\n",
       "  </thead>\n",
       "  <tbody>\n",
       "    <tr>\n",
       "      <th>count</th>\n",
       "      <td>4560.0</td>\n",
       "      <td>4560.000000</td>\n",
       "    </tr>\n",
       "    <tr>\n",
       "      <th>mean</th>\n",
       "      <td>20180826.0</td>\n",
       "      <td>9430.815351</td>\n",
       "    </tr>\n",
       "    <tr>\n",
       "      <th>std</th>\n",
       "      <td>0.0</td>\n",
       "      <td>11881.009113</td>\n",
       "    </tr>\n",
       "    <tr>\n",
       "      <th>min</th>\n",
       "      <td>20180826.0</td>\n",
       "      <td>790.000000</td>\n",
       "    </tr>\n",
       "    <tr>\n",
       "      <th>25%</th>\n",
       "      <td>20180826.0</td>\n",
       "      <td>4000.000000</td>\n",
       "    </tr>\n",
       "    <tr>\n",
       "      <th>50%</th>\n",
       "      <td>20180826.0</td>\n",
       "      <td>6200.000000</td>\n",
       "    </tr>\n",
       "    <tr>\n",
       "      <th>75%</th>\n",
       "      <td>20180826.0</td>\n",
       "      <td>10000.000000</td>\n",
       "    </tr>\n",
       "    <tr>\n",
       "      <th>max</th>\n",
       "      <td>20180826.0</td>\n",
       "      <td>350000.000000</td>\n",
       "    </tr>\n",
       "  </tbody>\n",
       "</table>\n",
       "</div>"
      ],
      "text/plain": [
       "                0              6\n",
       "count      4560.0    4560.000000\n",
       "mean   20180826.0    9430.815351\n",
       "std           0.0   11881.009113\n",
       "min    20180826.0     790.000000\n",
       "25%    20180826.0    4000.000000\n",
       "50%    20180826.0    6200.000000\n",
       "75%    20180826.0   10000.000000\n",
       "max    20180826.0  350000.000000"
      ]
     },
     "execution_count": 4,
     "metadata": {},
     "output_type": "execute_result"
    }
   ],
   "source": [
    "frame.describe()"
   ]
  },
  {
   "cell_type": "code",
   "execution_count": 5,
   "metadata": {},
   "outputs": [
    {
     "data": {
      "text/plain": [
       "Text(0,0.5,'Count')"
      ]
     },
     "execution_count": 5,
     "metadata": {},
     "output_type": "execute_result"
    },
    {
     "data": {
      "image/png": "[encoded data removed]",
      "text/plain": [
       "<Figure size 432x288 with 1 Axes>"
      ]
     },
     "metadata": {},
     "output_type": "display_data"
    }
   ],
   "source": [
    "frame[1].value_counts().plot(kind='bar')\n",
    "plt.title('Number of Houses for Renting in Different Districts of Shenzhen')\n",
    "plt.xlabel('Shenzhen Districts')\n",
    "plt.ylabel('Count')"
   ]
  },
  {
   "cell_type": "code",
   "execution_count": 40,
   "metadata": {},
   "outputs": [
    {
     "data": {
      "text/html": [
       "<div>\n",
       "<style scoped>\n",
       "    .dataframe tbody tr th:only-of-type {\n",
       "        vertical-align: middle;\n",
       "    }\n",
       "\n",
       "    .dataframe tbody tr th {\n",
       "        vertical-align: top;\n",
       "    }\n",
       "\n",
       "    .dataframe thead th {\n",
       "        text-align: right;\n",
       "    }\n",
       "</style>\n",
       "<table border=\"1\" class=\"dataframe\">\n",
       "  <thead>\n",
       "    <tr style=\"text-align: right;\">\n",
       "      <th></th>\n",
       "      <th>0</th>\n",
       "      <th>1</th>\n",
       "      <th>2</th>\n",
       "      <th>3</th>\n",
       "      <th>4</th>\n",
       "      <th>5</th>\n",
       "      <th>6</th>\n",
       "    </tr>\n",
       "  </thead>\n",
       "  <tbody>\n",
       "    <tr>\n",
       "      <th>1723</th>\n",
       "      <td>20180826</td>\n",
       "      <td>南山区</td>\n",
       "      <td>大学城</td>\n",
       "      <td>学子荔园</td>\n",
       "      <td>2室1厅</td>\n",
       "      <td>71平米</td>\n",
       "      <td>5500</td>\n",
       "    </tr>\n",
       "    <tr>\n",
       "      <th>1793</th>\n",
       "      <td>20180826</td>\n",
       "      <td>南山区</td>\n",
       "      <td>后海</td>\n",
       "      <td>龙城花园</td>\n",
       "      <td>2室1厅</td>\n",
       "      <td>64平米</td>\n",
       "      <td>5500</td>\n",
       "    </tr>\n",
       "    <tr>\n",
       "      <th>1900</th>\n",
       "      <td>20180826</td>\n",
       "      <td>南山区</td>\n",
       "      <td>蛇口</td>\n",
       "      <td>山海津</td>\n",
       "      <td>2室1厅</td>\n",
       "      <td>72平米</td>\n",
       "      <td>5800</td>\n",
       "    </tr>\n",
       "    <tr>\n",
       "      <th>1946</th>\n",
       "      <td>20180826</td>\n",
       "      <td>南山区</td>\n",
       "      <td>蛇口</td>\n",
       "      <td>山海津</td>\n",
       "      <td>2室1厅</td>\n",
       "      <td>72平米</td>\n",
       "      <td>5800</td>\n",
       "    </tr>\n",
       "    <tr>\n",
       "      <th>3132</th>\n",
       "      <td>20180826</td>\n",
       "      <td>南山区</td>\n",
       "      <td>南头</td>\n",
       "      <td>光大村</td>\n",
       "      <td>2室1厅</td>\n",
       "      <td>70平米</td>\n",
       "      <td>5300</td>\n",
       "    </tr>\n",
       "  </tbody>\n",
       "</table>\n",
       "</div>"
      ],
      "text/plain": [
       "             0    1    2     3     4     5     6\n",
       "1723  20180826  南山区  大学城  学子荔园  2室1厅  71平米  5500\n",
       "1793  20180826  南山区   后海  龙城花园  2室1厅  64平米  5500\n",
       "1900  20180826  南山区   蛇口   山海津  2室1厅  72平米  5800\n",
       "1946  20180826  南山区   蛇口   山海津  2室1厅  72平米  5800\n",
       "3132  20180826  南山区   南头   光大村  2室1厅  70平米  5300"
      ]
     },
     "execution_count": 40,
     "metadata": {},
     "output_type": "execute_result"
    }
   ],
   "source": [
    "house_layout = frame[4] == '2室1厅'\n",
    "district = frame[1] == '南山区'\n",
    "price_threshold = frame[6] < 6000\n",
    "area_threshold = frame[5] > '60'\n",
    "frame[house_layout & district & price_threshold & price_threshold & area_threshold]"
   ]
  }
 ],
 "metadata": {
  "kernelspec": {
   "display_name": "Python 3",
   "language": "python",
   "name": "python3"
  },
  "language_info": {
   "codemirror_mode": {
    "name": "ipython",
    "version": 3
   },
   "file_extension": ".py",
   "mimetype": "text/x-python",
   "name": "python",
   "nbconvert_exporter": "python",
   "pygments_lexer": "ipython3",
   "version": "3.6.5"
  }
 },
 "nbformat": 4,
 "nbformat_minor": 2
}
